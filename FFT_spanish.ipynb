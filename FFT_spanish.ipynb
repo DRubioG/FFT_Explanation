{
 "cells": [
  {
   "cell_type": "markdown",
   "id": "deb34014",
   "metadata": {},
   "source": [
    "# FFT explicación\n",
    "\n",
    "[You can read this post in English](./FFT_english.ipynb)\n",
    "\n",
    "El objetivo de esta página es explicar todos los pormenores de las FFTs, desde cómo se crean, como afecta el número de muestras a la FFT o la forma de esta ventana. Además, de otro tipo de conceptos.\n",
    "\n",
    "El objectivo de hacerlo en un fichero en formato Jupyter es para que cualquiera que lo necesite pueda utilizarlo para aprender a utilizar una FFT en Python. Para analizarlo se puede utilizar o el entorno de Jupyter Notebook o el Visual Studio Code con la extensión de Jupyter Notebook."
   ]
  },
  {
   "cell_type": "markdown",
   "id": "3b1c3547",
   "metadata": {},
   "source": [
    "## Diagrama de FFT\n",
    "\n",
    "Las FFTs están principalmente en la librería Scipy de Python. Para instalar la librería solo se necesita ejecutar el siguiente comando."
   ]
  },
  {
   "cell_type": "code",
   "execution_count": null,
   "id": "627a0d24",
   "metadata": {},
   "outputs": [],
   "source": [
    "pip install scipy"
   ]
  },
  {
   "cell_type": "code",
   "execution_count": 4,
   "id": "53daba7f",
   "metadata": {},
   "outputs": [],
   "source": [
    "# modelo de FFT básico"
   ]
  },
  {
   "cell_type": "markdown",
   "id": "b40c9d42",
   "metadata": {},
   "source": [
    "#### Representación de una ventana"
   ]
  },
  {
   "cell_type": "markdown",
   "id": "a9ef5973",
   "metadata": {},
   "source": [
    "## Ventanas\n",
    "\n",
    "#### Funcionamiento de las ventanas\n",
    "\n",
    "#### Tipos de ventanas"
   ]
  },
  {
   "cell_type": "markdown",
   "id": "ad6ad8b8",
   "metadata": {},
   "source": [
    "## Espectograma"
   ]
  }
 ],
 "metadata": {
  "kernelspec": {
   "display_name": "Python 3",
   "language": "python",
   "name": "python3"
  },
  "language_info": {
   "codemirror_mode": {
    "name": "ipython",
    "version": 3
   },
   "file_extension": ".py",
   "mimetype": "text/x-python",
   "name": "python",
   "nbconvert_exporter": "python",
   "pygments_lexer": "ipython3",
   "version": "3.10.12"
  }
 },
 "nbformat": 4,
 "nbformat_minor": 5
}
