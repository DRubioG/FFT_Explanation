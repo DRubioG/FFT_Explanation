{
 "cells": [
  {
   "cell_type": "markdown",
   "id": "deb34014",
   "metadata": {},
   "source": [
    "# FFT explicación\n",
    "\n",
    "[You can read this post in English](./FFT_english.ipynb)\n",
    "\n",
    "El objetivo de esta página es explicar todos los pormenores de las FFTs, desde cómo se crean, como afecta el número de muestras a la FFT o la forma de esta ventana. Además, de otro tipo de conceptos.\n",
    "\n",
    "El objectivo de hacerlo en un fichero en formato Jupyter es para que cualquiera que lo necesite pueda utilizarlo para aprender a utilizar una FFT en Python."
   ]
  },
  {
   "cell_type": "markdown",
   "id": "3b1c3547",
   "metadata": {},
   "source": [
    "## Diagrama de FFT"
   ]
  },
  {
   "cell_type": "markdown",
   "id": "a9ef5973",
   "metadata": {},
   "source": [
    "## Ventanas"
   ]
  },
  {
   "cell_type": "markdown",
   "id": "ad6ad8b8",
   "metadata": {},
   "source": [
    "## Espectograma"
   ]
  }
 ],
 "metadata": {
  "language_info": {
   "name": "python"
  }
 },
 "nbformat": 4,
 "nbformat_minor": 5
}
