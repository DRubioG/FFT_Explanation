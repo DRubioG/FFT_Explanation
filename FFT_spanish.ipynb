{
 "cells": [
  {
   "cell_type": "markdown",
   "id": "deb34014",
   "metadata": {},
   "source": [
    "# FFT explicación"
   ]
  }
 ],
 "metadata": {
  "language_info": {
   "name": "python"
  }
 },
 "nbformat": 4,
 "nbformat_minor": 5
}
