{
 "cells": [
  {
   "cell_type": "markdown",
   "id": "1560ad19",
   "metadata": {},
   "source": [
    "# FFT explanation"
   ]
  }
 ],
 "metadata": {
  "language_info": {
   "name": "python"
  }
 },
 "nbformat": 4,
 "nbformat_minor": 5
}
